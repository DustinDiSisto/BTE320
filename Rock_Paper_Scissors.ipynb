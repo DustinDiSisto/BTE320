{
  "nbformat": 4,
  "nbformat_minor": 0,
  "metadata": {
    "colab": {
      "provenance": [],
      "authorship_tag": "ABX9TyPa429Jcia1J7+cSZ90xmqv",
      "include_colab_link": true
    },
    "kernelspec": {
      "name": "python3",
      "display_name": "Python 3"
    },
    "language_info": {
      "name": "python"
    }
  },
  "cells": [
    {
      "cell_type": "markdown",
      "metadata": {
        "id": "view-in-github",
        "colab_type": "text"
      },
      "source": [
        "<a href=\"https://colab.research.google.com/github/DustinDiSisto/Test/blob/main/Rock_Paper_Scissors.ipynb\" target=\"_parent\"><img src=\"https://colab.research.google.com/assets/colab-badge.svg\" alt=\"Open In Colab\"/></a>"
      ]
    },
    {
      "cell_type": "code",
      "execution_count": null,
      "metadata": {
        "id": "KTTsNRkN2J6N"
      },
      "outputs": [],
      "source": [
        "import random\n",
        "userInput = input(\"Would you like to play? (y/n): \")\n",
        "\n",
        "pc_choice = random.choice(['Rock', 'Paper', 'Scissors'])\n",
        "\n",
        "while userInput == \"y\":\n",
        "  user_choice = input('Enter: Rock, Paper, or Scissors: ')\n",
        "  print(user_choice,\"vs\", pc_choice)\n",
        "  if user_choice == pc_choice:\n",
        "    decision = \"Draw\"\n",
        "  elif (user_choice == \"Rock\" and pc_choice == \"Paper\") or (user_choice == \"Paper\" and pc_choice == \"Scissiors\") or (user_choice == \"Scissors\" and pc_choice == \"Rock\"):\n",
        "    decision = \"PC Wins\"\n",
        "  else:\n",
        "    decision = \"User wins\"\n",
        "  print(decision)\n",
        "\n",
        "  userInput = input('Play again? (y/n): ')\n",
        "\n",
        "print(\"Thanks for playing!\")\n",
        "\n"
      ]
    }
  ]
}