{
  "nbformat": 4,
  "nbformat_minor": 0,
  "metadata": {
    "colab": {
      "provenance": [],
      "authorship_tag": "ABX9TyP3zXIMBbf9UkChhPXv7DbL",
      "include_colab_link": true
    },
    "kernelspec": {
      "name": "python3",
      "display_name": "Python 3"
    },
    "language_info": {
      "name": "python"
    }
  },
  "cells": [
    {
      "cell_type": "markdown",
      "metadata": {
        "id": "view-in-github",
        "colab_type": "text"
      },
      "source": [
        "<a href=\"https://colab.research.google.com/github/DustinDiSisto/BTE320/blob/main/Date_Assignment.ipynb\" target=\"_parent\"><img src=\"https://colab.research.google.com/assets/colab-badge.svg\" alt=\"Open In Colab\"/></a>"
      ]
    },
    {
      "cell_type": "code",
      "execution_count": 6,
      "metadata": {
        "colab": {
          "base_uri": "https://localhost:8080/"
        },
        "id": "-onQrNkcxWDA",
        "outputId": "0fe3fd13-5c2e-459c-edbe-6eb0a25121ec"
      },
      "outputs": [
        {
          "output_type": "stream",
          "name": "stdout",
          "text": [
            "Enter a date: MM/DD/YYYY: 02/02/2003\n",
            "month = 02\n",
            "day = 02\n",
            "year = 2003\n"
          ]
        }
      ],
      "source": [
        "s = input(\"Enter a date: MM/DD/YYYY: \")\n",
        "\n",
        "month = s[0:2]\n",
        "day = s[3:5]\n",
        "year = s[6:10]\n",
        "\n",
        "print(\"month =\",month)\n",
        "print(\"day =\",day)\n",
        "print(\"year =\",year)"
      ]
    }
  ]
}