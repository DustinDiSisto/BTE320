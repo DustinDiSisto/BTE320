{
  "nbformat": 4,
  "nbformat_minor": 0,
  "metadata": {
    "colab": {
      "provenance": [],
      "authorship_tag": "ABX9TyNsfFPdr9FRL3dLhl/yMtT/",
      "include_colab_link": true
    },
    "kernelspec": {
      "name": "python3",
      "display_name": "Python 3"
    },
    "language_info": {
      "name": "python"
    }
  },
  "cells": [
    {
      "cell_type": "markdown",
      "metadata": {
        "id": "view-in-github",
        "colab_type": "text"
      },
      "source": [
        "<a href=\"https://colab.research.google.com/github/DustinDiSisto/BTE320/blob/main/List_Append.ipynb\" target=\"_parent\"><img src=\"https://colab.research.google.com/assets/colab-badge.svg\" alt=\"Open In Colab\"/></a>"
      ]
    },
    {
      "cell_type": "code",
      "execution_count": null,
      "metadata": {
        "id": "z15izjXoz7g-"
      },
      "outputs": [],
      "source": [
        "userInput = int(input(\"Would you like to start? (Y: Enter any key)(N: Enter 0): \"))\n",
        "L = []\n",
        "\n",
        "while userInput != 0:\n",
        "  L.append(userInput)\n",
        "  L\n",
        "  userInput = int(input(\"Enter a value (Press 0 to stop): \"))\n",
        "\n",
        "print(L)"
      ]
    }
  ]
}