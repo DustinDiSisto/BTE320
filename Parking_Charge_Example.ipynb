{
  "nbformat": 4,
  "nbformat_minor": 0,
  "metadata": {
    "colab": {
      "provenance": [],
      "authorship_tag": "ABX9TyOUDhECKewrHujv5v9RIEOE",
      "include_colab_link": true
    },
    "kernelspec": {
      "name": "python3",
      "display_name": "Python 3"
    },
    "language_info": {
      "name": "python"
    }
  },
  "cells": [
    {
      "cell_type": "markdown",
      "metadata": {
        "id": "view-in-github",
        "colab_type": "text"
      },
      "source": [
        "<a href=\"https://colab.research.google.com/github/DustinDiSisto/BTE320/blob/main/Parking_Charge_Example.ipynb\" target=\"_parent\"><img src=\"https://colab.research.google.com/assets/colab-badge.svg\" alt=\"Open In Colab\"/></a>"
      ]
    },
    {
      "cell_type": "code",
      "execution_count": null,
      "metadata": {
        "colab": {
          "base_uri": "https://localhost:8080/"
        },
        "id": "5i2uH9a9mYWb",
        "outputId": "f20a7ca1-5244-47a5-acc7-7a6c10ea5a05"
      },
      "outputs": [
        {
          "output_type": "stream",
          "name": "stdout",
          "text": [
            "1 10.0\n",
            "2 10.0\n",
            "3 12.5\n",
            "4 15.0\n",
            "5 17.5\n",
            "6 20.0\n",
            "7 20.0\n",
            "8 20.0\n"
          ]
        }
      ],
      "source": [
        "fixed = 5\n",
        "variable_rate = 2.5\n",
        "\n",
        "for time in range(1,9,1):\n",
        "  totalCharge = variable_rate*time+fixed\n",
        "  if totalCharge < 10.0:\n",
        "    totalCharge = 10.0\n",
        "  elif totalCharge > 20.0:\n",
        "    totalCharge = 20.0\n",
        "\n",
        "  print(time, totalCharge)\n",
        "\n",
        "\n",
        "\n",
        "\n"
      ]
    }
  ]
}