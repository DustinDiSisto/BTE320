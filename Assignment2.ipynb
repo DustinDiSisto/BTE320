{
  "cells": [
    {
      "cell_type": "markdown",
      "metadata": {
        "id": "view-in-github",
        "colab_type": "text"
      },
      "source": [
        "<a href=\"https://colab.research.google.com/github/DustinDiSisto/BTE320/blob/main/Assignment2.ipynb\" target=\"_parent\"><img src=\"https://colab.research.google.com/assets/colab-badge.svg\" alt=\"Open In Colab\"/></a>"
      ]
    },
    {
      "cell_type": "markdown",
      "metadata": {
        "id": "mqKVIuY-mxNU"
      },
      "source": [
        "# Problem Set 2"
      ]
    },
    {
      "cell_type": "markdown",
      "metadata": {
        "id": "-RSYW1jVm08n"
      },
      "source": [
        "## Assignment 1: Quality Control (7 points)\n",
        "\n",
        "A quality control manager would like to find the average weight of a list of weights. Prior experience indicates that the first two measures are atypical, and the practice is to exclude these from the average calculation.\n",
        "\n",
        "Write a program that calculates the average of a list of numbers that given as inputs from the user, excluding the first two values.\n",
        "\n",
        "For your program, you must define and use the following functions:\n",
        "- `getValues(n)`: Prompt the user for `n` values, returns the list\n",
        "- `calcAverage(alist)`: Calculates the average from the list"
      ]
    },
    {
      "cell_type": "code",
      "execution_count": null,
      "metadata": {
        "id": "AqbgJkgNmvQw"
      },
      "outputs": [],
      "source": [
        "def getValues(n):\n",
        "  weights = []\n",
        "  if n < 3:\n",
        "    print(\"Enter more than 3 weights\")\n",
        "    return\n",
        "  else:\n",
        "    for i in range(n):\n",
        "      weight = float(input(\"Enter weight: \"))\n",
        "      weights.append(weight)\n",
        "    return weights[2: ]\n",
        "\n",
        "def calcAverage(aList):\n",
        "  if len(aList) < 1:\n",
        "    print(\"Enter more elements\")\n",
        "  else:\n",
        "    print(sum(aList)/len(aList))\n",
        "\n",
        "n_weights = int(input(\"Enter number of weights: \"))\n",
        "L = getValues(n_weights)\n",
        "calcAverage(L)"
      ]
    },
    {
      "cell_type": "markdown",
      "metadata": {
        "id": "QFO0Kzx8ncnv"
      },
      "source": [
        "## Assignment 2: Country Statistics Lookup-Multiple Measures (6 points)\n",
        "\n",
        "Assume a program begins with the statement:\n",
        "\n",
        "```python\n",
        "allData = { # dictionary of values for countries\n",
        "    'US': {'pop':325.7, 'gdp': 19.39, 'ccy': 'USD', 'fx':  1.0},\n",
        "    'CA': {'pop': 36.5, 'gdp':  1.65, 'ccy': 'CAD', 'fx':  1.35},\n",
        "    'MX': {'pop':129.2, 'gdp':  1.15, 'ccy': 'MXN', 'fx': 19.68}\n",
        "    }\n",
        "```\n",
        "\n",
        "Write subsequent statements that (in a loop) prompt the user for a country code (`US`, `CA`, or `MX`), then prompt for a measure name (`pop`, `gdp`, `ccy`, or `fx`), then look up in the above dictionary for the corresponding value, and display it.\n",
        "\n",
        "Example run:\n",
        "```\n",
        "Please enter a country code: CA\n",
        "Please enter a statistic: pop\n",
        "CA pop = 36.5\n",
        "```\n",
        "\n",
        "Your program should handle the cases where a user-entered country code or measure name is not found."
      ]
    },
    {
      "cell_type": "code",
      "execution_count": null,
      "metadata": {
        "id": "NZFjRINKowEW"
      },
      "outputs": [],
      "source": [
        "allData = { # dictionary of values for countries\n",
        "    'US': {'pop':325.7, 'gdp': 19.39, 'ccy': 'USD', 'fx':  1.0},\n",
        "    'CA': {'pop': 36.5, 'gdp':  1.65, 'ccy': 'CAD', 'fx':  1.35},\n",
        "    'MX': {'pop':129.2, 'gdp':  1.15, 'ccy': 'MXN', 'fx': 19.68}\n",
        "    }\n",
        "\n",
        "while True:\n",
        "  ccInput = input(\"Please enter a country code: \")\n",
        "  if ccInput == 'stop':\n",
        "    break\n",
        "  if ccInput not in allData.keys():\n",
        "    print('This code does not exist')\n",
        "    continue\n",
        "  stInput = input(\"Please enter a statistic: \")\n",
        "  if stInput not in allData[ccInput].keys():\n",
        "    continue\n",
        "  cc = allData[ccInput]\n",
        "  print(ccInput, stInput,'=', cc[stInput])\n"
      ]
    },
    {
      "cell_type": "markdown",
      "metadata": {
        "id": "GjaUFrnfpKFf"
      },
      "source": [
        "## Assignment 3: Parking Garage (6 points)\n",
        "\n",
        "Write a program to compute the fee for parking in a garage for a number of hours.\n",
        "\n",
        "The program should:\n",
        "- Prompt the user for how many hours parked\n",
        "- Calculate the fee based on the following rules:\n",
        "  - $2.50/hour\n",
        "\n",
        "  - minimum fee is $6.00\n",
        "\n",
        "  - maximum fee is $20.00\n",
        "- Print the result\n",
        "\n",
        "For your program, define and use the following two functions:\n",
        "```python\n",
        "# use input() to prompt for the # of hours parked, return this value\n",
        "def getParkingHours()\n",
        "\n",
        "# takes as input hours (a number), returns the parking fee\n",
        "def calcParkingFee()\n",
        "```"
      ]
    },
    {
      "cell_type": "code",
      "execution_count": 8,
      "metadata": {
        "id": "5ha4O3V5pwNN",
        "colab": {
          "base_uri": "https://localhost:8080/"
        },
        "outputId": "54bcb97c-f9fb-4017-84f3-4631100132cf"
      },
      "outputs": [
        {
          "output_type": "stream",
          "name": "stdout",
          "text": [
            "Enter number of hours parked: 6\n",
            "Total fee: $15.0\n"
          ]
        }
      ],
      "source": [
        "def getParkingHours():\n",
        "  return int(input(\"Enter number of hours parked: \"))\n",
        "\n",
        "def calcParkingFee():\n",
        "  fee = 2.5 * getParkingHours()\n",
        "  if fee <= 6:\n",
        "    return 6\n",
        "  elif fee >= 20:\n",
        "    return 20\n",
        "  else:\n",
        "    return fee\n",
        "\n",
        "fee = calcParkingFee()\n",
        "print(f'Total fee: ${fee}')"
      ]
    },
    {
      "cell_type": "markdown",
      "metadata": {
        "id": "gipBObe5qm-2"
      },
      "source": [
        "## Assignment 4: Tuition (6 points)\n",
        "\n",
        "A college charges tuition according to the following:\n",
        "- 12 or more credits: $20,000/semester\n",
        "\n",
        "- 1-11 credits: $1,200 + $1,700 per credit\n",
        "\n",
        "Write a program that prompts the user for a number of credits and determines and displays the tuition for the semester. As part of your program, define and use the following function:\n",
        "```python\n",
        "def calcTuition(credits)\n",
        "```\n",
        "The function returns the tuition for a given number of credits"
      ]
    },
    {
      "cell_type": "code",
      "execution_count": null,
      "metadata": {
        "colab": {
          "base_uri": "https://localhost:8080/"
        },
        "id": "BPcn9ywzrL8y",
        "outputId": "189795b5-da57-48ae-8f64-07b0af77aa0e"
      },
      "outputs": [
        {
          "name": "stdout",
          "output_type": "stream",
          "text": [
            "Enter number of credits: 6\n",
            "Tuition = $11400 \n"
          ]
        }
      ],
      "source": [
        "def calcTuition(credits):\n",
        "  if credits >= 12:\n",
        "    print('Tuition = $20000')\n",
        "  elif credits >= 1:\n",
        "    print(f'Tuition = ${1200 + 1700*credits} ')\n",
        "  else:\n",
        "    print('Invalid number of credits')\n",
        "\n",
        "n_credits = int(input('Enter number of credits: '))\n",
        "calcTuition(n_credits)"
      ]
    }
  ],
  "metadata": {
    "colab": {
      "provenance": [],
      "include_colab_link": true
    },
    "kernelspec": {
      "display_name": "Python 3",
      "name": "python3"
    },
    "language_info": {
      "name": "python"
    }
  },
  "nbformat": 4,
  "nbformat_minor": 0
}