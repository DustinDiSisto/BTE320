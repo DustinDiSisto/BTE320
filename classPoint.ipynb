{
  "nbformat": 4,
  "nbformat_minor": 0,
  "metadata": {
    "colab": {
      "provenance": [],
      "authorship_tag": "ABX9TyOXPUqIFmO5DNEzoGW2myrG"
    },
    "kernelspec": {
      "name": "python3",
      "display_name": "Python 3"
    },
    "language_info": {
      "name": "python"
    }
  },
  "cells": [
    {
      "cell_type": "code",
      "execution_count": 1,
      "metadata": {
        "colab": {
          "base_uri": "https://localhost:8080/"
        },
        "id": "iiFsLe26KYjm",
        "outputId": "c23875bf-5fb0-4030-eadc-07ccefdd8f12"
      },
      "outputs": [
        {
          "output_type": "stream",
          "name": "stdout",
          "text": [
            "5.0\n",
            "7.0710678118654755\n"
          ]
        }
      ],
      "source": [
        "class Point:\n",
        " def __init__(self, x, y):\n",
        "   self.x = x\n",
        "   self.y = y\n",
        " def distance(self, other):\n",
        "   x_diff = (self.x - other.x) ** 2\n",
        "   y_diff = (self.y - other.y) ** 2\n",
        "   return (x_diff + y_diff) ** 0.5\n",
        "\n",
        "class Point3D(Point):\n",
        " def __init__(self, x, y, z):\n",
        "   super().__init__(x,y)\n",
        "   self.z = z\n",
        " def distance(self, other):\n",
        "   x_diff = (self.x - other.x) ** 2\n",
        "   y_diff = (self.y - other.y) ** 2\n",
        "   z_diff = (self.z - other.z) ** 2\n",
        "   return (x_diff + y_diff + z_diff) ** 0.5\n",
        "\n",
        "p1 = Point(3,4)\n",
        "p2 = Point(6,8)\n",
        "print(p1.distance(p2))\n",
        "p3 = Point3D(3,4,5)\n",
        "p4 = Point3D(6,8,10)\n",
        "print(p3.distance(p4))"
      ]
    }
  ]
}