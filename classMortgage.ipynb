{
  "nbformat": 4,
  "nbformat_minor": 0,
  "metadata": {
    "colab": {
      "provenance": [],
      "authorship_tag": "ABX9TyPkVNf5K+HJLjrSSYI8WIXW",
      "include_colab_link": true
    },
    "kernelspec": {
      "name": "python3",
      "display_name": "Python 3"
    },
    "language_info": {
      "name": "python"
    }
  },
  "cells": [
    {
      "cell_type": "markdown",
      "metadata": {
        "id": "view-in-github",
        "colab_type": "text"
      },
      "source": [
        "<a href=\"https://colab.research.google.com/github/DustinDiSisto/BTE320/blob/main/classMortgage.ipynb\" target=\"_parent\"><img src=\"https://colab.research.google.com/assets/colab-badge.svg\" alt=\"Open In Colab\"/></a>"
      ]
    },
    {
      "cell_type": "code",
      "execution_count": null,
      "metadata": {
        "id": "_T9D2wXGNFXb"
      },
      "outputs": [],
      "source": [
        "class Mortgage:\n",
        "    def __init__(self, amount, maturity, interest):\n",
        "        self.amount = amount\n",
        "        self.maturity = maturity\n",
        "        self.__interest = interest\n",
        "\n",
        "    def __str__(self):\n",
        "      return f\"Mortgage info\\n Initial loan amount: {self.amount}\\n Maturity term: {self.maturity}\\n Interest: {self.interest}\"\n",
        "\n",
        "    def get_interest(self):\n",
        "      return self.__interest\n",
        "\n",
        "    def set_interest(self, newInterest):\n",
        "      if newInterest >= 0:\n",
        "        self.__interest = newInterest\n",
        "      else:\n",
        "        print(\"Interest must be non negative.\")\n",
        "\n",
        "    def payment(self):\n",
        "      B = self.amount\n",
        "      n = self.maturity * 12\n",
        "      r = self.__interest /100\n",
        "\n",
        "      return B * (r * (1+r) ** n) / ((1+r) ** n - 1)"
      ]
    },
    {
      "cell_type": "code",
      "source": [
        "m = Mortgage(100000,30,6)"
      ],
      "metadata": {
        "id": "7XJ6Z9e5O7vT"
      },
      "execution_count": null,
      "outputs": []
    },
    {
      "cell_type": "code",
      "source": [
        "m.payment()"
      ],
      "metadata": {
        "colab": {
          "base_uri": "https://localhost:8080/"
        },
        "id": "AEbURQ0hTRNX",
        "outputId": "ff14f181-9b18-4e41-c439-36c59cfeae97"
      },
      "execution_count": null,
      "outputs": [
        {
          "output_type": "execute_result",
          "data": {
            "text/plain": [
              "6000.000004656286"
            ]
          },
          "metadata": {},
          "execution_count": 7
        }
      ]
    }
  ]
}