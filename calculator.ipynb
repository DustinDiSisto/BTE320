{
  "nbformat": 4,
  "nbformat_minor": 0,
  "metadata": {
    "colab": {
      "provenance": [],
      "authorship_tag": "ABX9TyMMrGNMDBtIDr7FNqVhu8HQ",
      "include_colab_link": true
    },
    "kernelspec": {
      "name": "python3",
      "display_name": "Python 3"
    },
    "language_info": {
      "name": "python"
    }
  },
  "cells": [
    {
      "cell_type": "markdown",
      "metadata": {
        "id": "view-in-github",
        "colab_type": "text"
      },
      "source": [
        "<a href=\"https://colab.research.google.com/github/DustinDiSisto/BTE320/blob/main/calculator.ipynb\" target=\"_parent\"><img src=\"https://colab.research.google.com/assets/colab-badge.svg\" alt=\"Open In Colab\"/></a>"
      ]
    },
    {
      "cell_type": "code",
      "execution_count": null,
      "metadata": {
        "id": "XEgIkt6ciz14"
      },
      "outputs": [],
      "source": [
        "while True:\n",
        "  firstNumber = float(input(\"Enter the first number: \"))\n",
        "  secondNumber = float(input(\"Enter the second number: \"))\n",
        "  operator = input(\"Enter the operator (+, -, *, /, //, %, **): \")\n",
        "\n",
        "  if operator == \"break\":\n",
        "    break\n",
        "\n",
        "  if operator == \"+\":\n",
        "    print(firstNumber + secondNumber)\n",
        "  elif operator == \"-\":\n",
        "    print(firstNumber - secondNumber)\n",
        "  elif operator == \"*\":\n",
        "    print(firstNumber * secondNumber)\n",
        "  elif operator == \"/\":\n",
        "    print(firstNumber / secondNumber)\n",
        "  elif operator == \"//\":\n",
        "    print(firstNumber // secondNumber)\n",
        "  elif operator == \"%\":\n",
        "    print(firstNumber % secondNumber)\n",
        "  elif operator == \"**\":\n",
        "    print(firstNumber ** secondNumber)\n",
        "\n",
        "  else:\n",
        "    continue\n"
      ]
    }
  ]
}